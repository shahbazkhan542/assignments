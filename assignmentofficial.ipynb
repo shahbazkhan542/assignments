{
 "cells": [
  {
   "cell_type": "code",
   "execution_count": null,
   "metadata": {},
   "outputs": [],
   "source": [
    "#circle\n",
    "print(\"input radius:\")\n",
    "radius=int(input())\n",
    "area=3.141592654*(radius*radius)\n",
    "print(\"area of circle with radius \",radius,\"is \",area)"
   ]
  },
  {
   "cell_type": "code",
   "execution_count": null,
   "metadata": {},
   "outputs": [],
   "source": [
    "#area of triangle\n",
    "print(\"enter base\")\n",
    "base=int(input())\n",
    "print(\"enter height\")\n",
    "height=int(input())\n",
    "area=0.5*base*height\n",
    "print(\"Area of a Triangle with Height\",height,\" and Base\",base,\" is \",area)"
   ]
  },
  {
   "cell_type": "code",
   "execution_count": null,
   "metadata": {},
   "outputs": [],
   "source": [
    "#assignment15\n",
    "print(\"input number:\")\n",
    "n=(input())\n",
    "v=int(len(n))\n",
    "sum=0\n",
    "for i in range(v):\n",
    "    sum=int(n[i])+sum    \n",
    "    \n",
    "print(sum)"
   ]
  },
  {
   "cell_type": "code",
   "execution_count": null,
   "metadata": {},
   "outputs": [],
   "source": [
    "#bin to dec\n",
    "print(\"enter dec number\")\n",
    "dec=int(input())\n",
    "a=bin(dec)\n",
    "print(a)\n",
    "\n"
   ]
  },
  {
   "cell_type": "code",
   "execution_count": null,
   "metadata": {},
   "outputs": [],
   "source": [
    "#dec to bin\n",
    "print(\"enter bin number\")\n",
    "bn=input()\n",
    "b=int(bn,2)\n",
    "print(b)"
   ]
  },
  {
   "cell_type": "code",
   "execution_count": null,
   "metadata": {},
   "outputs": [],
   "source": [
    "#sum of n +ve integer\n",
    "print(\"input number:\")\n",
    "n=int(input())\n",
    "sum=0\n",
    "for i in range(n+1):\n",
    "    sum=sum+i\n",
    "    \n",
    "print(\"Sum of n Positive integers till\", n,\" is\", sum)"
   ]
  },
  {
   "cell_type": "code",
   "execution_count": null,
   "metadata": {},
   "outputs": [],
   "source": [
    "print(\"enter string\")\n",
    "word=input()\n",
    "print(\"how many times you want this string\")\n",
    "n=int(input())\n",
    "print(\"output\")\n",
    "print(n*word)"
   ]
  },
  {
   "cell_type": "code",
   "execution_count": null,
   "metadata": {},
   "outputs": [],
   "source": [
    "print(\"input radius:\")\n",
    "radius=int(input())\n",
    "volume=(4/3)*3.141592654*(radius*radius*radius)\n",
    "print(\"volume of circle with radius \",radius,\"is \",volume)"
   ]
  },
  {
   "cell_type": "code",
   "execution_count": null,
   "metadata": {},
   "outputs": [],
   "source": [
    "#assign 23\n",
    "for i in range(9):\n",
    "    print()\n",
    "    for j in range(i+1):\n",
    "        print(i+1,end='')"
   ]
  },
  {
   "cell_type": "code",
   "execution_count": null,
   "metadata": {},
   "outputs": [],
   "source": [
    "#bmi calculator\n",
    "print(\"input height in cm:\")\n",
    "h=int(input())\n",
    "cmm=h/100\n",
    "print(\"input weight in kg:\")\n",
    "w=int(input())\n",
    "res=w/(cmm*cmm)\n",
    "print(\"your bmi is\", res)"
   ]
  },
  {
   "cell_type": "code",
   "execution_count": null,
   "metadata": {},
   "outputs": [],
   "source": [
    "#divisiblity check\n",
    "print(\"enter numerator\")\n",
    "numerator=int(input())\n",
    "print(\"enter denominator\")\n",
    "denominator=int(input())\n",
    "\n",
    "if (numerator%denominator==0 ):\n",
    "    print(\"number\",numerator,\"is completely divisible by\",denominator)\n",
    "    \n",
    "if (numerator%denominator!=0 ):\n",
    "    print(\"number\",numerator,\"is not completely divisible by\",denominator)"
   ]
  },
  {
   "cell_type": "code",
   "execution_count": null,
   "metadata": {},
   "outputs": [],
   "source": [
    "#to check date diffrence\n",
    "date=input()\n",
    "date2=input()\n",
    "dcount=abs(int(date2[0]+date2[1])-int(date[0]+date[1]))\n",
    "mcount=abs(int(date2[3]+date2[4])-int(date[3]+date[4]))\n",
    "ycount=abs(int(date2[6]+date2[7]+date2[8]+date2[9])-int(date[6]+date[7]+date[8]+date[9]))\n",
    "\n",
    "if(mcount==0 and ycount==0):\n",
    "    print(dcount)\n",
    "    \n",
    "if(mcount!=0 and ycount==0):\n",
    "    for i in range(abs(int(date2[3]+date2[4])),abs(int(date[3]+date[4])),-1):\n",
    "        if(int(date2[3]+date2[4])==4 or int(date2[3]+date2[4])==6 or int(date2[3]+date2[4])==9 or int(date2[3]+date2[4])==11):\n",
    "            dcount=dcount+30\n",
    "        elif(int(date2[3]+date2[4])==2):\n",
    "            dcount=dcount+28\n",
    "        else:\n",
    "            dcount=dcount+31\n",
    "    print(dcount) \n",
    "\n",
    "if(mcount!=0 and ycount!=0):\n",
    "    for i in range(int(date2[3]+date2[4]),int(date[3]+date[4]),-1):\n",
    "            if(int(date2[3]+date2[4])==4 or int(date2[3]+date2[4])==6 or int(date2[3]+date2[4])==9 or int(date2[3]+date2[4])==11):\n",
    "                dcount=dcount+30\n",
    "            if(int(date2[3]+date2[4])==2):\n",
    "                dcount=dcount+28\n",
    "            else:\n",
    "                dcount=dcount+31 \n",
    "    for i in range(ycount):\n",
    "            dcount=dcount+365\n",
    "    print(dcount)\n",
    "\n",
    "if(mcount==0 and ycount!=0):\n",
    "    for i in range(ycount):\n",
    "        dcount=dcount+365\n",
    "    print(dcount)"
   ]
  },
  {
   "cell_type": "code",
   "execution_count": null,
   "metadata": {},
   "outputs": [],
   "source": [
    "#ecu distance\n",
    "print(\"input x1:\")\n",
    "x1=int(input())\n",
    "print(\"input x2:\")\n",
    "x2=int(input())\n",
    "print(\"input y1:\")\n",
    "y1=int(input())\n",
    "print(\"input y2:\")\n",
    "y2=int(input())\n",
    "\n",
    "d=((y2-y1)**2 +(x2-x1)**2)**0.5\n",
    "\n",
    "print(\"distance is\",d)"
   ]
  },
  {
   "cell_type": "code",
   "execution_count": null,
   "metadata": {},
   "outputs": [],
   "source": [
    "#vowel checker\n",
    "print(\"enter alphabet\")\n",
    "alp=input()\n",
    "if (alp==\"a\" or alp==\"e\" or alp== \"i\" or alp==\"o\" or alp==\"u\" or alp== \"A\" or alp==\"E\" or alp==\"I\" or alp==\"O\" or alp==\"U\"):\n",
    "    print(\"alphabet is vowel\")\n",
    "else:\n",
    "    print(\"alphabet is not vowel\")"
   ]
  },
  {
   "cell_type": "code",
   "execution_count": null,
   "metadata": {},
   "outputs": [],
   "source": [
    "#feet to cm\n",
    "print(\"input feet:\")\n",
    "x=int(input())\n",
    "res=x*30.48\n",
    "print(\"There are\",res,\"cm in\", x,\" ft\" )"
   ]
  },
  {
   "cell_type": "code",
   "execution_count": null,
   "metadata": {},
   "outputs": [],
   "source": [
    "#num is +ve -ve or 0\n",
    "print(\"enter number\")\n",
    "num=int(input())\n",
    "if (num>0):\n",
    "    print(\"number is positive\")\n",
    "if (num<0):\n",
    "    print(\"number is negative\")\n",
    "if (num==0):\n",
    "    print(\"number is zero\")"
   ]
  },
  {
   "cell_type": "code",
   "execution_count": null,
   "metadata": {},
   "outputs": [],
   "source": [
    "#word is paladrome or not\n",
    "st=input()\n",
    "\n",
    "if(st[0]==st[-1]):\n",
    "    print(\"paladrome word\")\n",
    "else:\n",
    "    print(\"not a paladrome word\")"
   ]
  },
  {
   "cell_type": "code",
   "execution_count": null,
   "metadata": {},
   "outputs": [],
   "source": [
    "#to check num apaces and alphabets in user input\n",
    "a=input()\n",
    "alpha=0\n",
    "num=0\n",
    "spaces=0\n",
    "sc=0\n",
    "for i in range(len(a)):\n",
    "    if(a[i].isalpha()):\n",
    "        alpha+=1\n",
    "    elif(a[i].isdigit()):\n",
    "        num+=1\n",
    "    elif(a[i].isspace() == True):\n",
    "        spaces+=1\n",
    "    else:\n",
    "        sc+=1\n",
    "print(\"alphabets:\",alpha)\n",
    "print(\"numbers:\",num)\n",
    "print(\"spaces:\",spaces)\n",
    "print(\"special characters:\",sc)"
   ]
  },
  {
   "cell_type": "code",
   "execution_count": null,
   "metadata": {},
   "outputs": [],
   "source": [
    "#assign 22\n",
    "for i in range(5):\n",
    "    print()\n",
    "    for j in range(i+1):\n",
    "        print(j+1,end='')\n",
    "        \n",
    "for i in range(4,0,-1):\n",
    "    print()\n",
    "    for j in range(i+1):\n",
    "        print(j+1,end='')"
   ]
  }
 ],
 "metadata": {
  "kernelspec": {
   "display_name": "Python 3",
   "language": "python",
   "name": "python3"
  },
  "language_info": {
   "codemirror_mode": {
    "name": "ipython",
    "version": 3
   },
   "file_extension": ".py",
   "mimetype": "text/x-python",
   "name": "python",
   "nbconvert_exporter": "python",
   "pygments_lexer": "ipython3",
   "version": "3.6.7"
  }
 },
 "nbformat": 4,
 "nbformat_minor": 2
}
